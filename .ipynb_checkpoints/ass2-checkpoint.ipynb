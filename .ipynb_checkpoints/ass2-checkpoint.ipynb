{
 "cells": [
  {
   "cell_type": "code",
   "execution_count": 15,
   "id": "199de986-2a3c-4b36-9869-0a94ac0a9f8e",
   "metadata": {},
   "outputs": [],
   "source": [
    "import pandas as pd"
   ]
  },
  {
   "cell_type": "code",
   "execution_count": 16,
   "id": "715ed23d-a590-4ab9-8eba-b2608e7cc574",
   "metadata": {},
   "outputs": [],
   "source": [
    "import numpy as np\n"
   ]
  },
  {
   "cell_type": "code",
   "execution_count": 17,
   "id": "94ee67c7-8ea5-4bc6-be18-58b3724f2e59",
   "metadata": {},
   "outputs": [],
   "source": [
    "data = {\n",
    "    'id' : [101,102,103,104,105,106],\n",
    "    'math_score': [88,92,np.nan,45,99,300],\n",
    "    'science_score':[85,79,91,76,88,60],\n",
    "\n",
    "    'english_score':[78,85,80,np.nan,82,74],\n",
    "    'attendace':[92,87,90,85,100,40]\n",
    "}"
   ]
  },
  {
   "cell_type": "code",
   "execution_count": 18,
   "id": "b2e72246-0a70-455a-b61c-0eebe07381a6",
   "metadata": {},
   "outputs": [],
   "source": [
    "df = pd.DataFrame(data)"
   ]
  },
  {
   "cell_type": "code",
   "execution_count": 19,
   "id": "2665e85f-2de6-45e5-af82-46324d13d0b3",
   "metadata": {},
   "outputs": [
    {
     "data": {
      "text/html": [
       "<div>\n",
       "<style scoped>\n",
       "    .dataframe tbody tr th:only-of-type {\n",
       "        vertical-align: middle;\n",
       "    }\n",
       "\n",
       "    .dataframe tbody tr th {\n",
       "        vertical-align: top;\n",
       "    }\n",
       "\n",
       "    .dataframe thead th {\n",
       "        text-align: right;\n",
       "    }\n",
       "</style>\n",
       "<table border=\"1\" class=\"dataframe\">\n",
       "  <thead>\n",
       "    <tr style=\"text-align: right;\">\n",
       "      <th></th>\n",
       "      <th>id</th>\n",
       "      <th>math_score</th>\n",
       "      <th>science_score</th>\n",
       "      <th>english_score</th>\n",
       "      <th>attendace</th>\n",
       "    </tr>\n",
       "  </thead>\n",
       "  <tbody>\n",
       "    <tr>\n",
       "      <th>0</th>\n",
       "      <td>101</td>\n",
       "      <td>88.0</td>\n",
       "      <td>85</td>\n",
       "      <td>78.0</td>\n",
       "      <td>92</td>\n",
       "    </tr>\n",
       "    <tr>\n",
       "      <th>1</th>\n",
       "      <td>102</td>\n",
       "      <td>92.0</td>\n",
       "      <td>79</td>\n",
       "      <td>85.0</td>\n",
       "      <td>87</td>\n",
       "    </tr>\n",
       "    <tr>\n",
       "      <th>2</th>\n",
       "      <td>103</td>\n",
       "      <td>NaN</td>\n",
       "      <td>91</td>\n",
       "      <td>80.0</td>\n",
       "      <td>90</td>\n",
       "    </tr>\n",
       "    <tr>\n",
       "      <th>3</th>\n",
       "      <td>104</td>\n",
       "      <td>45.0</td>\n",
       "      <td>76</td>\n",
       "      <td>NaN</td>\n",
       "      <td>85</td>\n",
       "    </tr>\n",
       "    <tr>\n",
       "      <th>4</th>\n",
       "      <td>105</td>\n",
       "      <td>99.0</td>\n",
       "      <td>88</td>\n",
       "      <td>82.0</td>\n",
       "      <td>100</td>\n",
       "    </tr>\n",
       "    <tr>\n",
       "      <th>5</th>\n",
       "      <td>106</td>\n",
       "      <td>300.0</td>\n",
       "      <td>60</td>\n",
       "      <td>74.0</td>\n",
       "      <td>40</td>\n",
       "    </tr>\n",
       "  </tbody>\n",
       "</table>\n",
       "</div>"
      ],
      "text/plain": [
       "    id  math_score  science_score  english_score  attendace\n",
       "0  101        88.0             85           78.0         92\n",
       "1  102        92.0             79           85.0         87\n",
       "2  103         NaN             91           80.0         90\n",
       "3  104        45.0             76            NaN         85\n",
       "4  105        99.0             88           82.0        100\n",
       "5  106       300.0             60           74.0         40"
      ]
     },
     "execution_count": 19,
     "metadata": {},
     "output_type": "execute_result"
    }
   ],
   "source": [
    "df"
   ]
  },
  {
   "cell_type": "code",
   "execution_count": 20,
   "id": "db008e33-e7b3-421c-856d-c925d003b5ef",
   "metadata": {},
   "outputs": [
    {
     "data": {
      "text/plain": [
       "id               0\n",
       "math_score       1\n",
       "science_score    0\n",
       "english_score    1\n",
       "attendace        0\n",
       "dtype: int64"
      ]
     },
     "execution_count": 20,
     "metadata": {},
     "output_type": "execute_result"
    }
   ],
   "source": [
    "df.isnull().sum()"
   ]
  },
  {
   "cell_type": "code",
   "execution_count": 21,
   "id": "6740fa3a-ef10-45c4-819a-269a8cfbeec7",
   "metadata": {},
   "outputs": [
    {
     "ename": "SyntaxError",
     "evalue": "expression cannot contain assignment, perhaps you meant \"==\"? (4192799185.py, line 1)",
     "output_type": "error",
     "traceback": [
      "  \u001b[36mCell\u001b[39m\u001b[36m \u001b[39m\u001b[32mIn[21]\u001b[39m\u001b[32m, line 1\u001b[39m\n\u001b[31m    \u001b[39m\u001b[31mdf['math_score'].fillna(df['math_score'].mean().inplace = True)\u001b[39m\n                            ^\n\u001b[31mSyntaxError\u001b[39m\u001b[31m:\u001b[39m expression cannot contain assignment, perhaps you meant \"==\"?\n"
     ]
    }
   ],
   "source": [
    "df['math_score'].fillna(df['math_score'].mean().inplace = True)"
   ]
  },
  {
   "cell_type": "code",
   "execution_count": 22,
   "id": "ea98745e-fbbb-45b5-bb7f-f821a7ed5ec2",
   "metadata": {},
   "outputs": [],
   "source": [
    "df['math_score'] = df['math_score'].fillna(df['math_score'].mean())"
   ]
  },
  {
   "cell_type": "code",
   "execution_count": 23,
   "id": "299e91ed-c8cd-48af-a7a6-970b9236b043",
   "metadata": {},
   "outputs": [
    {
     "data": {
      "text/html": [
       "<div>\n",
       "<style scoped>\n",
       "    .dataframe tbody tr th:only-of-type {\n",
       "        vertical-align: middle;\n",
       "    }\n",
       "\n",
       "    .dataframe tbody tr th {\n",
       "        vertical-align: top;\n",
       "    }\n",
       "\n",
       "    .dataframe thead th {\n",
       "        text-align: right;\n",
       "    }\n",
       "</style>\n",
       "<table border=\"1\" class=\"dataframe\">\n",
       "  <thead>\n",
       "    <tr style=\"text-align: right;\">\n",
       "      <th></th>\n",
       "      <th>id</th>\n",
       "      <th>math_score</th>\n",
       "      <th>science_score</th>\n",
       "      <th>english_score</th>\n",
       "      <th>attendace</th>\n",
       "    </tr>\n",
       "  </thead>\n",
       "  <tbody>\n",
       "    <tr>\n",
       "      <th>0</th>\n",
       "      <td>101</td>\n",
       "      <td>88.0</td>\n",
       "      <td>85</td>\n",
       "      <td>78.0</td>\n",
       "      <td>92</td>\n",
       "    </tr>\n",
       "    <tr>\n",
       "      <th>1</th>\n",
       "      <td>102</td>\n",
       "      <td>92.0</td>\n",
       "      <td>79</td>\n",
       "      <td>85.0</td>\n",
       "      <td>87</td>\n",
       "    </tr>\n",
       "    <tr>\n",
       "      <th>2</th>\n",
       "      <td>103</td>\n",
       "      <td>124.8</td>\n",
       "      <td>91</td>\n",
       "      <td>80.0</td>\n",
       "      <td>90</td>\n",
       "    </tr>\n",
       "    <tr>\n",
       "      <th>3</th>\n",
       "      <td>104</td>\n",
       "      <td>45.0</td>\n",
       "      <td>76</td>\n",
       "      <td>NaN</td>\n",
       "      <td>85</td>\n",
       "    </tr>\n",
       "    <tr>\n",
       "      <th>4</th>\n",
       "      <td>105</td>\n",
       "      <td>99.0</td>\n",
       "      <td>88</td>\n",
       "      <td>82.0</td>\n",
       "      <td>100</td>\n",
       "    </tr>\n",
       "    <tr>\n",
       "      <th>5</th>\n",
       "      <td>106</td>\n",
       "      <td>300.0</td>\n",
       "      <td>60</td>\n",
       "      <td>74.0</td>\n",
       "      <td>40</td>\n",
       "    </tr>\n",
       "  </tbody>\n",
       "</table>\n",
       "</div>"
      ],
      "text/plain": [
       "    id  math_score  science_score  english_score  attendace\n",
       "0  101        88.0             85           78.0         92\n",
       "1  102        92.0             79           85.0         87\n",
       "2  103       124.8             91           80.0         90\n",
       "3  104        45.0             76            NaN         85\n",
       "4  105        99.0             88           82.0        100\n",
       "5  106       300.0             60           74.0         40"
      ]
     },
     "execution_count": 23,
     "metadata": {},
     "output_type": "execute_result"
    }
   ],
   "source": [
    "df"
   ]
  },
  {
   "cell_type": "code",
   "execution_count": 24,
   "id": "bb742660-a27c-4be4-ad14-9bc10f18ef57",
   "metadata": {},
   "outputs": [],
   "source": [
    "df['english_score'] = df['english_score'].fillna(df['english_score'].mean())"
   ]
  },
  {
   "cell_type": "code",
   "execution_count": 25,
   "id": "9b300a64-3743-4854-9a23-16152b683fb9",
   "metadata": {},
   "outputs": [
    {
     "data": {
      "text/html": [
       "<div>\n",
       "<style scoped>\n",
       "    .dataframe tbody tr th:only-of-type {\n",
       "        vertical-align: middle;\n",
       "    }\n",
       "\n",
       "    .dataframe tbody tr th {\n",
       "        vertical-align: top;\n",
       "    }\n",
       "\n",
       "    .dataframe thead th {\n",
       "        text-align: right;\n",
       "    }\n",
       "</style>\n",
       "<table border=\"1\" class=\"dataframe\">\n",
       "  <thead>\n",
       "    <tr style=\"text-align: right;\">\n",
       "      <th></th>\n",
       "      <th>id</th>\n",
       "      <th>math_score</th>\n",
       "      <th>science_score</th>\n",
       "      <th>english_score</th>\n",
       "      <th>attendace</th>\n",
       "    </tr>\n",
       "  </thead>\n",
       "  <tbody>\n",
       "    <tr>\n",
       "      <th>0</th>\n",
       "      <td>101</td>\n",
       "      <td>88.0</td>\n",
       "      <td>85</td>\n",
       "      <td>78.0</td>\n",
       "      <td>92</td>\n",
       "    </tr>\n",
       "    <tr>\n",
       "      <th>1</th>\n",
       "      <td>102</td>\n",
       "      <td>92.0</td>\n",
       "      <td>79</td>\n",
       "      <td>85.0</td>\n",
       "      <td>87</td>\n",
       "    </tr>\n",
       "    <tr>\n",
       "      <th>2</th>\n",
       "      <td>103</td>\n",
       "      <td>124.8</td>\n",
       "      <td>91</td>\n",
       "      <td>80.0</td>\n",
       "      <td>90</td>\n",
       "    </tr>\n",
       "    <tr>\n",
       "      <th>3</th>\n",
       "      <td>104</td>\n",
       "      <td>45.0</td>\n",
       "      <td>76</td>\n",
       "      <td>79.8</td>\n",
       "      <td>85</td>\n",
       "    </tr>\n",
       "    <tr>\n",
       "      <th>4</th>\n",
       "      <td>105</td>\n",
       "      <td>99.0</td>\n",
       "      <td>88</td>\n",
       "      <td>82.0</td>\n",
       "      <td>100</td>\n",
       "    </tr>\n",
       "    <tr>\n",
       "      <th>5</th>\n",
       "      <td>106</td>\n",
       "      <td>300.0</td>\n",
       "      <td>60</td>\n",
       "      <td>74.0</td>\n",
       "      <td>40</td>\n",
       "    </tr>\n",
       "  </tbody>\n",
       "</table>\n",
       "</div>"
      ],
      "text/plain": [
       "    id  math_score  science_score  english_score  attendace\n",
       "0  101        88.0             85           78.0         92\n",
       "1  102        92.0             79           85.0         87\n",
       "2  103       124.8             91           80.0         90\n",
       "3  104        45.0             76           79.8         85\n",
       "4  105        99.0             88           82.0        100\n",
       "5  106       300.0             60           74.0         40"
      ]
     },
     "execution_count": 25,
     "metadata": {},
     "output_type": "execute_result"
    }
   ],
   "source": [
    "df\n"
   ]
  },
  {
   "cell_type": "code",
   "execution_count": 26,
   "id": "a138af3e-0eb1-439b-ae62-8c92fdd7f6b6",
   "metadata": {},
   "outputs": [],
   "source": [
    "def detect_outliers_iqr(col):\n",
    "    q1 = col.quantile(.25)\n",
    "    q3 = col.quantile(.75)\n",
    "    iqr = q3-q1\n",
    "    lower_bound = q1 - 1.5 * iqr\n",
    "    upper_bound = q3 + 1.5 * iqr\n",
    "    return col[(col<lower_bound) | (col>upper_bound)]"
   ]
  },
  {
   "cell_type": "code",
   "execution_count": 27,
   "id": "ad012d23-2fa8-4396-a6d5-2849bca5eacd",
   "metadata": {},
   "outputs": [],
   "source": [
    "outlier_math = detect_outliers_iqr(df['math_score'])\n",
    "outlier_attendence = detect_outliers_iqr(df['attendace'])"
   ]
  },
  {
   "cell_type": "code",
   "execution_count": 28,
   "id": "7b51590f-da45-4404-a07d-656268076354",
   "metadata": {},
   "outputs": [
    {
     "name": "stdout",
     "output_type": "stream",
     "text": [
      "Math Score Outliers:\n",
      " 5    300.0\n",
      "Name: math_score, dtype: float64\n"
     ]
    }
   ],
   "source": [
    "print(\"Math Score Outliers:\\n\",outlier_math)"
   ]
  },
  {
   "cell_type": "code",
   "execution_count": 29,
   "id": "8ba63a07-9900-48ea-bdb4-902aace41e35",
   "metadata": {},
   "outputs": [],
   "source": [
    "def cap_outliers(col):\n",
    "    q1 = col.quantile(.25)\n",
    "    q3 = col.quantile(.75)\n",
    "    iqr = q3 - q1\n",
    "    lb = q1 - 1.5 * iqr\n",
    "    ub = q3 + 1.5 * iqr\n",
    "    col = np.where(col>ub,ub,col)\n",
    "    col = np.where(col<lb,lb,col)\n",
    "    return col"
   ]
  },
  {
   "cell_type": "code",
   "execution_count": 30,
   "id": "d9b69a94-356f-4e03-9d6b-f3b9374bb64c",
   "metadata": {},
   "outputs": [],
   "source": [
    "df['math_score'] = cap_outliers(df['math_score'])"
   ]
  },
  {
   "cell_type": "code",
   "execution_count": 31,
   "id": "b4411727-4745-439e-9395-f6c78829a991",
   "metadata": {},
   "outputs": [],
   "source": [
    "df['attendace'] = cap_outliers(df['attendace'])"
   ]
  },
  {
   "cell_type": "code",
   "execution_count": 32,
   "id": "e0dcb6ba-bbe6-4124-b37c-8fd077f394d4",
   "metadata": {},
   "outputs": [
    {
     "data": {
      "text/html": [
       "<div>\n",
       "<style scoped>\n",
       "    .dataframe tbody tr th:only-of-type {\n",
       "        vertical-align: middle;\n",
       "    }\n",
       "\n",
       "    .dataframe tbody tr th {\n",
       "        vertical-align: top;\n",
       "    }\n",
       "\n",
       "    .dataframe thead th {\n",
       "        text-align: right;\n",
       "    }\n",
       "</style>\n",
       "<table border=\"1\" class=\"dataframe\">\n",
       "  <thead>\n",
       "    <tr style=\"text-align: right;\">\n",
       "      <th></th>\n",
       "      <th>id</th>\n",
       "      <th>math_score</th>\n",
       "      <th>science_score</th>\n",
       "      <th>english_score</th>\n",
       "      <th>attendace</th>\n",
       "    </tr>\n",
       "  </thead>\n",
       "  <tbody>\n",
       "    <tr>\n",
       "      <th>0</th>\n",
       "      <td>101</td>\n",
       "      <td>88.000</td>\n",
       "      <td>85</td>\n",
       "      <td>78.0</td>\n",
       "      <td>92.0</td>\n",
       "    </tr>\n",
       "    <tr>\n",
       "      <th>1</th>\n",
       "      <td>102</td>\n",
       "      <td>92.000</td>\n",
       "      <td>79</td>\n",
       "      <td>85.0</td>\n",
       "      <td>87.0</td>\n",
       "    </tr>\n",
       "    <tr>\n",
       "      <th>2</th>\n",
       "      <td>103</td>\n",
       "      <td>124.800</td>\n",
       "      <td>91</td>\n",
       "      <td>80.0</td>\n",
       "      <td>90.0</td>\n",
       "    </tr>\n",
       "    <tr>\n",
       "      <th>3</th>\n",
       "      <td>104</td>\n",
       "      <td>45.000</td>\n",
       "      <td>76</td>\n",
       "      <td>79.8</td>\n",
       "      <td>85.0</td>\n",
       "    </tr>\n",
       "    <tr>\n",
       "      <th>4</th>\n",
       "      <td>105</td>\n",
       "      <td>99.000</td>\n",
       "      <td>88</td>\n",
       "      <td>82.0</td>\n",
       "      <td>100.0</td>\n",
       "    </tr>\n",
       "    <tr>\n",
       "      <th>5</th>\n",
       "      <td>106</td>\n",
       "      <td>162.375</td>\n",
       "      <td>60</td>\n",
       "      <td>74.0</td>\n",
       "      <td>76.5</td>\n",
       "    </tr>\n",
       "  </tbody>\n",
       "</table>\n",
       "</div>"
      ],
      "text/plain": [
       "    id  math_score  science_score  english_score  attendace\n",
       "0  101      88.000             85           78.0       92.0\n",
       "1  102      92.000             79           85.0       87.0\n",
       "2  103     124.800             91           80.0       90.0\n",
       "3  104      45.000             76           79.8       85.0\n",
       "4  105      99.000             88           82.0      100.0\n",
       "5  106     162.375             60           74.0       76.5"
      ]
     },
     "execution_count": 32,
     "metadata": {},
     "output_type": "execute_result"
    }
   ],
   "source": [
    "df"
   ]
  },
  {
   "cell_type": "code",
   "execution_count": 33,
   "id": "18ecea19-5720-49b1-a981-b0d60bbd8a96",
   "metadata": {},
   "outputs": [],
   "source": [
    "import matplotlib.pyplot as plt"
   ]
  },
  {
   "cell_type": "code",
   "execution_count": 34,
   "id": "7d334cba-d69f-45f1-9e50-631f5822bf6a",
   "metadata": {},
   "outputs": [],
   "source": [
    "import seaborn as sns"
   ]
  },
  {
   "cell_type": "code",
   "execution_count": 35,
   "id": "a4e199f4-def2-4f2f-9ae9-a726725001b6",
   "metadata": {},
   "outputs": [
    {
     "data": {
      "image/png": "[encoded data removed]",
      "text/plain": [
       "<Figure size 640x480 with 1 Axes>"
      ]
     },
     "metadata": {},
     "output_type": "display_data"
    }
   ],
   "source": [
    "sns.histplot(df['attendace'],kde = True)\n",
    "plt.title('Before transformation : attendace')\n",
    "plt.show()\n"
   ]
  },
  {
   "cell_type": "code",
   "execution_count": 36,
   "id": "85e8c1e0-1247-4bbd-9a97-d972a3cd7a2b",
   "metadata": {},
   "outputs": [],
   "source": [
    "df['log_attendace'] = np.log1p(df['attendace'])"
   ]
  },
  {
   "cell_type": "code",
   "execution_count": null,
   "id": "e4dbb3de-305e-46c7-a08a-2b630100d303",
   "metadata": {},
   "outputs": [],
   "source": [
    "sns.histplot(df['log_attendace'],kde = True)\n",
    "plt.title(\"After log transformation : Attendace Percentage\")\n",
    "plt.show()\n",
    "          "
   ]
  },
  {
   "cell_type": "code",
   "execution_count": null,
   "id": "7cb6781b-e6b3-4b8c-9e46-44c8c80be724",
   "metadata": {},
   "outputs": [],
   "source": []
  },
  {
   "cell_type": "code",
   "execution_count": null,
   "id": "e4657e87-a7f4-4cb5-a476-ac2361481369",
   "metadata": {},
   "outputs": [],
   "source": []
  },
  {
   "cell_type": "code",
   "execution_count": null,
   "id": "23ee48f1-6bbf-4cb0-93a9-6897e206fe80",
   "metadata": {},
   "outputs": [],
   "source": []
  },
  {
   "cell_type": "code",
   "execution_count": null,
   "id": "804cf37b-9f7c-4c70-b246-6009f9ca27fc",
   "metadata": {},
   "outputs": [],
   "source": []
  },
  {
   "cell_type": "code",
   "execution_count": null,
   "id": "569e0578-a628-4297-9b2e-0759fb191f8f",
   "metadata": {},
   "outputs": [],
   "source": []
  },
  {
   "cell_type": "code",
   "execution_count": null,
   "id": "55190beb-a0ef-4671-9a3e-5f6189ed782a",
   "metadata": {},
   "outputs": [],
   "source": []
  },
  {
   "cell_type": "code",
   "execution_count": null,
   "id": "adf6fcd9-8dbf-458d-ab99-44d3f519b13d",
   "metadata": {},
   "outputs": [],
   "source": []
  },
  {
   "cell_type": "code",
   "execution_count": null,
   "id": "f8f4dc4e-7cdf-4c5c-a3f4-ff367a9d00aa",
   "metadata": {},
   "outputs": [],
   "source": []
  },
  {
   "cell_type": "code",
   "execution_count": null,
   "id": "fdabd6e5-56bf-4883-95f1-0ab9e0b81fbb",
   "metadata": {},
   "outputs": [],
   "source": []
  },
  {
   "cell_type": "code",
   "execution_count": null,
   "id": "088f2b21-c3aa-4eb2-a931-be2524faef1e",
   "metadata": {},
   "outputs": [],
   "source": []
  },
  {
   "cell_type": "code",
   "execution_count": null,
   "id": "e005ccac-084a-4071-a36b-b213b705a3ec",
   "metadata": {},
   "outputs": [],
   "source": []
  },
  {
   "cell_type": "code",
   "execution_count": null,
   "id": "ee327c48-06c9-438f-94d8-86681b338718",
   "metadata": {},
   "outputs": [],
   "source": []
  },
  {
   "cell_type": "code",
   "execution_count": null,
   "id": "ce53054c-7d0b-41e6-bbb1-502858d7eddb",
   "metadata": {},
   "outputs": [],
   "source": []
  },
  {
   "cell_type": "code",
   "execution_count": null,
   "id": "f5e3dfed-6dbe-42c1-9c60-9b045241887a",
   "metadata": {},
   "outputs": [],
   "source": []
  },
  {
   "cell_type": "code",
   "execution_count": null,
   "id": "2fcc115c-09a0-4507-a80e-5a7b4770056d",
   "metadata": {},
   "outputs": [],
   "source": []
  },
  {
   "cell_type": "code",
   "execution_count": null,
   "id": "aeafcbdd-a138-4414-b83e-ea8706970aab",
   "metadata": {},
   "outputs": [],
   "source": []
  },
  {
   "cell_type": "code",
   "execution_count": null,
   "id": "3ccdc815-7d1e-4179-a74c-69034d223339",
   "metadata": {},
   "outputs": [],
   "source": []
  },
  {
   "cell_type": "code",
   "execution_count": null,
   "id": "b3d8a7f3-6750-4ab0-867f-0205bffbc015",
   "metadata": {},
   "outputs": [],
   "source": []
  },
  {
   "cell_type": "code",
   "execution_count": null,
   "id": "657eda54-3ca0-42e7-abdc-a6e5fb1f4494",
   "metadata": {},
   "outputs": [],
   "source": []
  },
  {
   "cell_type": "code",
   "execution_count": null,
   "id": "e9b01956-acd0-45f1-a57f-0adf1a81ea2b",
   "metadata": {},
   "outputs": [],
   "source": []
  },
  {
   "cell_type": "code",
   "execution_count": null,
   "id": "32b77bfe-b025-4131-baef-1ea6eff45148",
   "metadata": {},
   "outputs": [],
   "source": []
  },
  {
   "cell_type": "code",
   "execution_count": null,
   "id": "0c8b0356-596e-4023-bc7f-df013e7c4293",
   "metadata": {},
   "outputs": [],
   "source": []
  },
  {
   "cell_type": "code",
   "execution_count": null,
   "id": "cec2f4d5-5d3f-444c-b3d3-acd3e549c734",
   "metadata": {},
   "outputs": [],
   "source": []
  }
 ],
 "metadata": {
  "kernelspec": {
   "display_name": "Python 3 (ipykernel)",
   "language": "python",
   "name": "python3"
  },
  "language_info": {
   "codemirror_mode": {
    "name": "ipython",
    "version": 3
   },
   "file_extension": ".py",
   "mimetype": "text/x-python",
   "name": "python",
   "nbconvert_exporter": "python",
   "pygments_lexer": "ipython3",
   "version": "3.12.3"
  }
 },
 "nbformat": 4,
 "nbformat_minor": 5
}
